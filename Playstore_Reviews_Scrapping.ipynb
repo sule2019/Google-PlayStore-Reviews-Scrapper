{
 "cells": [
  {
   "cell_type": "code",
   "execution_count": 1,
   "id": "ba818790",
   "metadata": {},
   "outputs": [],
   "source": [
    "from selenium import webdriver\n",
    "from selenium.webdriver.common.by import By\n",
    "from selenium.webdriver.support.ui import WebDriverWait\n",
    "from selenium.webdriver.support import expected_conditions as EC\n",
    "import csv\n",
    "from selenium.common.exceptions import NoSuchElementException\n",
    "import pandas as pd\n",
    "import re"
   ]
  },
  {
   "cell_type": "code",
   "execution_count": 2,
   "id": "d8425e90",
   "metadata": {},
   "outputs": [],
   "source": [
    "driver = webdriver.Chrome()  "
   ]
  },
  {
   "cell_type": "code",
   "execution_count": 3,
   "id": "1fe7cabc",
   "metadata": {},
   "outputs": [],
   "source": [
    "#APP URL, add the url of the app\n",
    "whatsapp = 'https://play.google.com/store/apps/details?id=com.whatsapp'\n",
    "facebook = \"https://play.google.com/store/apps/details?id=com.facebook.katana\"\n",
    "messenger = \"https://play.google.com/store/apps/details?id=com.facebook.orca\"\n",
    "instagram = \"https://play.google.com/store/apps/details?id=com.instagram.android\"\n",
    "subway_surfers = \"https://play.google.com/store/apps/details?id=com.kiloo.subwaysurf\"\n",
    "candy_crush = \"https://play.google.com/store/apps/details?id=com.king.candycrushsaga\"\n",
    "snap_chat = \"https://play.google.com/store/apps/details?id=com.snapchat.android\"\n",
    "spotify = \"https://play.google.com/store/apps/details?id=com.spotify.music\"\n",
    "my_talking_tom = \"https://play.google.com/store/apps/details?id=com.outfit7.talkingtom\"\n",
    "twitter = \"https://play.google.com/store/apps/details?id=com.twitter.android\""
   ]
  },
  {
   "cell_type": "code",
   "execution_count": 5,
   "id": "6eb1d4dd",
   "metadata": {},
   "outputs": [],
   "source": [
    "#add the app name and the url variable here\n",
    "app_name = 'instagram'\n",
    "driver.get(instagram)"
   ]
  },
  {
   "cell_type": "markdown",
   "id": "8063b7ee",
   "metadata": {},
   "source": [
    "After running the above cell, click the Rating and reviews arrow on the playstore app page on your browser, A modal containing reviews will apear, scroll down to as much reviews as you need, then generate."
   ]
  },
  {
   "cell_type": "code",
   "execution_count": 6,
   "id": "97a33877",
   "metadata": {},
   "outputs": [],
   "source": [
    "#GENERATE REVIEWS\n",
    "def scrap_app_reviews(app_name):\n",
    "    #1. Get the Stars column\n",
    "    #NOTE: Sign out of playstore before you start generating\n",
    "    stars_column = []\n",
    "    stars = driver.find_elements(By.CLASS_NAME, 'iXRFPc')\n",
    "    i=0\n",
    "    while True:\n",
    "        try:\n",
    "            star = stars[i+1].get_attribute(\"aria-label\")\n",
    "            stars_column.append(star[6])\n",
    "            i+=1\n",
    "        except IndexError:\n",
    "            # we have reached the end of the elements\n",
    "            break\n",
    "    #first 2 stars are not part of the data so it should be removed.\n",
    "    stars_column = stars_column[2:]\n",
    "    \n",
    "    #2. Get the Other columns (Name, Date, Review, Found_helpful)\n",
    "    other_columns = []\n",
    "    i = 0\n",
    "    while True:\n",
    "        xpath = \"(//div[@class='RHo1pe'][{}])\".format(i+1)\n",
    "        try:\n",
    "            elements = driver.find_elements(By.XPATH, xpath)[0]\n",
    "            # do something with elements\n",
    "            i += 1\n",
    "            other_columns.append(elements.text)\n",
    "        except IndexError:\n",
    "            # we have reached the end of the elements\n",
    "            break\n",
    "    \n",
    "    #3. Split using \\n\n",
    "    output = []\n",
    "    for i in other_columns:\n",
    "        row = i.split(\"\\n\")\n",
    "        output.append(row)\n",
    "    \n",
    "    #4. Organize the data in a 2d list\n",
    "    data = []\n",
    "    for i in output:\n",
    "        temp_output = []\n",
    "        temp_output.append(i[0])\n",
    "        temp_output.append(i[2])\n",
    "        temp_output.append(i[3])\n",
    "        if i[4] == 'Did you find this helpful?': #if 0 people found the review helpful, this will shift to the 4th index\n",
    "            temp_output.append(0)\n",
    "        else:\n",
    "            temp_output.append(i[4])\n",
    "        data.append(temp_output)\n",
    "        \n",
    "    #5. Convert to dataframe and combine the stars and others columns \n",
    "    final_data = pd.DataFrame(data, columns=['Name','Date', 'Review', 'Found Helpful'])\n",
    "    final_data['Stars'] = stars_column\n",
    "\n",
    "    #6. Create a solumn with the app name\n",
    "    app_name_column = []\n",
    "    for i in range(len(final_data)):\n",
    "        i = app_name\n",
    "        app_name_column.append(i)\n",
    "    final_data['App Name'] = app_name_column\n",
    "    \n",
    "    #7. Save as csv\n",
    "    final_data.to_csv(app_name, index=False)\n",
    "\n"
   ]
  },
  {
   "cell_type": "code",
   "execution_count": 7,
   "id": "e1dab845",
   "metadata": {},
   "outputs": [],
   "source": [
    "scrap_app_reviews(app_name)"
   ]
  },
  {
   "cell_type": "markdown",
   "id": "9e612dab",
   "metadata": {},
   "source": [
    "# Combine Reviews Into on file"
   ]
  },
  {
   "cell_type": "code",
   "execution_count": 126,
   "id": "8b5beb20",
   "metadata": {},
   "outputs": [],
   "source": [
    "candy_crush = pd.read_csv(\"candy_crush\")\n",
    "whatsapp = pd.read_csv(\"whatsapp\")\n",
    "facebook = pd.read_csv(\"facebook\")\n",
    "messenger = pd.read_csv(\"messenger\")\n",
    "instagram = pd.read_csv(\"instagram\")\n",
    "subway_surfers = pd.read_csv(\"subway_surfers\")\n",
    "snap_chat = pd.read_csv(\"snap_chat\")\n",
    "spotify = pd.read_csv(\"spotify\")\n",
    "my_talking_tom = pd.read_csv(\"my_talking_tom\")\n",
    "twitter = pd.read_csv(\"twitter\")"
   ]
  },
  {
   "cell_type": "code",
   "execution_count": 145,
   "id": "2a12215a",
   "metadata": {},
   "outputs": [],
   "source": [
    "app_reviews_dataset = pd.concat([candy_crush,whatsapp,facebook,messenger,instagram,subway_surfers,snap_chat,spotify,my_talking_tom,twitter])"
   ]
  },
  {
   "cell_type": "code",
   "execution_count": 148,
   "id": "37d0b88e",
   "metadata": {},
   "outputs": [],
   "source": [
    "app_reviews_dataset\n",
    "app_reviews_dataset.drop('Unnamed: 0', axis=1, inplace=True)"
   ]
  },
  {
   "cell_type": "code",
   "execution_count": 173,
   "id": "f1fa72fc",
   "metadata": {},
   "outputs": [],
   "source": [
    "app_reviews_dataset.to_csv('app_reviews_dataset', index=False)"
   ]
  },
  {
   "cell_type": "code",
   "execution_count": null,
   "id": "e80121a2",
   "metadata": {},
   "outputs": [],
   "source": []
  },
  {
   "cell_type": "code",
   "execution_count": 172,
   "id": "daa801a8",
   "metadata": {},
   "outputs": [
    {
     "data": {
      "text/html": [
       "<div>\n",
       "<style scoped>\n",
       "    .dataframe tbody tr th:only-of-type {\n",
       "        vertical-align: middle;\n",
       "    }\n",
       "\n",
       "    .dataframe tbody tr th {\n",
       "        vertical-align: top;\n",
       "    }\n",
       "\n",
       "    .dataframe thead th {\n",
       "        text-align: right;\n",
       "    }\n",
       "</style>\n",
       "<table border=\"1\" class=\"dataframe\">\n",
       "  <thead>\n",
       "    <tr style=\"text-align: right;\">\n",
       "      <th></th>\n",
       "      <th>Name</th>\n",
       "      <th>Date</th>\n",
       "      <th>Review</th>\n",
       "      <th>Found Helpful</th>\n",
       "      <th>Stars</th>\n",
       "      <th>App Name</th>\n",
       "    </tr>\n",
       "  </thead>\n",
       "  <tbody>\n",
       "    <tr>\n",
       "      <th>0</th>\n",
       "      <td>Ajinkya Nikam</td>\n",
       "      <td>2023-02-19</td>\n",
       "      <td>The algorithm makes sure you have to purchase ...</td>\n",
       "      <td>928</td>\n",
       "      <td>1</td>\n",
       "      <td>candy_crush</td>\n",
       "    </tr>\n",
       "    <tr>\n",
       "      <th>1</th>\n",
       "      <td>Anuj Bagde</td>\n",
       "      <td>2023-01-13</td>\n",
       "      <td>Ad not available... It's getting old watching ...</td>\n",
       "      <td>11556</td>\n",
       "      <td>5</td>\n",
       "      <td>candy_crush</td>\n",
       "    </tr>\n",
       "    <tr>\n",
       "      <th>2</th>\n",
       "      <td>Mohd Asif</td>\n",
       "      <td>2023-01-21</td>\n",
       "      <td>They have stopped ads for lives and extra move...</td>\n",
       "      <td>7837</td>\n",
       "      <td>1</td>\n",
       "      <td>candy_crush</td>\n",
       "    </tr>\n",
       "    <tr>\n",
       "      <th>3</th>\n",
       "      <td>Amandeep Singh</td>\n",
       "      <td>2022-12-13</td>\n",
       "      <td>I love this game very much. I love the colourf...</td>\n",
       "      <td>21273</td>\n",
       "      <td>5</td>\n",
       "      <td>candy_crush</td>\n",
       "    </tr>\n",
       "    <tr>\n",
       "      <th>4</th>\n",
       "      <td>Usha Sehgal</td>\n",
       "      <td>2022-12-27</td>\n",
       "      <td>I've finished level 13190.But for the last 4 w...</td>\n",
       "      <td>9703</td>\n",
       "      <td>1</td>\n",
       "      <td>candy_crush</td>\n",
       "    </tr>\n",
       "    <tr>\n",
       "      <th>...</th>\n",
       "      <td>...</td>\n",
       "      <td>...</td>\n",
       "      <td>...</td>\n",
       "      <td>...</td>\n",
       "      <td>...</td>\n",
       "      <td>...</td>\n",
       "    </tr>\n",
       "    <tr>\n",
       "      <th>2475</th>\n",
       "      <td>Dutch Oldies</td>\n",
       "      <td>2023-01-30</td>\n",
       "      <td>It's very valuable because it provides you wit...</td>\n",
       "      <td>0</td>\n",
       "      <td>4</td>\n",
       "      <td>twitter</td>\n",
       "    </tr>\n",
       "    <tr>\n",
       "      <th>2476</th>\n",
       "      <td>Waleed Saeid</td>\n",
       "      <td>2023-02-08</td>\n",
       "      <td>Recently on the mobile version, The like icon ...</td>\n",
       "      <td>0</td>\n",
       "      <td>4</td>\n",
       "      <td>twitter</td>\n",
       "    </tr>\n",
       "    <tr>\n",
       "      <th>2477</th>\n",
       "      <td>legends only</td>\n",
       "      <td>2022-12-18</td>\n",
       "      <td>Wth Twitter! Why am I getting notification fro...</td>\n",
       "      <td>2</td>\n",
       "      <td>3</td>\n",
       "      <td>twitter</td>\n",
       "    </tr>\n",
       "    <tr>\n",
       "      <th>2478</th>\n",
       "      <td>Chris Thorn</td>\n",
       "      <td>2022-10-20</td>\n",
       "      <td>Having a little trouble with the app at this t...</td>\n",
       "      <td>52</td>\n",
       "      <td>3</td>\n",
       "      <td>twitter</td>\n",
       "    </tr>\n",
       "    <tr>\n",
       "      <th>2479</th>\n",
       "      <td>HORACE MARLEY</td>\n",
       "      <td>2023-01-18</td>\n",
       "      <td>I want to get rid of the ' you might like' twe...</td>\n",
       "      <td>0</td>\n",
       "      <td>1</td>\n",
       "      <td>twitter</td>\n",
       "    </tr>\n",
       "  </tbody>\n",
       "</table>\n",
       "<p>23320 rows × 6 columns</p>\n",
       "</div>"
      ],
      "text/plain": [
       "                Name       Date  \\\n",
       "0      Ajinkya Nikam 2023-02-19   \n",
       "1         Anuj Bagde 2023-01-13   \n",
       "2          Mohd Asif 2023-01-21   \n",
       "3     Amandeep Singh 2022-12-13   \n",
       "4        Usha Sehgal 2022-12-27   \n",
       "...              ...        ...   \n",
       "2475    Dutch Oldies 2023-01-30   \n",
       "2476    Waleed Saeid 2023-02-08   \n",
       "2477    legends only 2022-12-18   \n",
       "2478     Chris Thorn 2022-10-20   \n",
       "2479   HORACE MARLEY 2023-01-18   \n",
       "\n",
       "                                                 Review  Found Helpful  Stars  \\\n",
       "0     The algorithm makes sure you have to purchase ...            928      1   \n",
       "1     Ad not available... It's getting old watching ...          11556      5   \n",
       "2     They have stopped ads for lives and extra move...           7837      1   \n",
       "3     I love this game very much. I love the colourf...          21273      5   \n",
       "4     I've finished level 13190.But for the last 4 w...           9703      1   \n",
       "...                                                 ...            ...    ...   \n",
       "2475  It's very valuable because it provides you wit...              0      4   \n",
       "2476  Recently on the mobile version, The like icon ...              0      4   \n",
       "2477  Wth Twitter! Why am I getting notification fro...              2      3   \n",
       "2478  Having a little trouble with the app at this t...             52      3   \n",
       "2479  I want to get rid of the ' you might like' twe...              0      1   \n",
       "\n",
       "         App Name  \n",
       "0     candy_crush  \n",
       "1     candy_crush  \n",
       "2     candy_crush  \n",
       "3     candy_crush  \n",
       "4     candy_crush  \n",
       "...           ...  \n",
       "2475      twitter  \n",
       "2476      twitter  \n",
       "2477      twitter  \n",
       "2478      twitter  \n",
       "2479      twitter  \n",
       "\n",
       "[23320 rows x 6 columns]"
      ]
     },
     "execution_count": 172,
     "metadata": {},
     "output_type": "execute_result"
    }
   ],
   "source": [
    "app_reviews_dataset"
   ]
  },
  {
   "cell_type": "markdown",
   "id": "fd760848",
   "metadata": {},
   "source": [
    "# Clean"
   ]
  },
  {
   "cell_type": "code",
   "execution_count": null,
   "id": "9f4b2238",
   "metadata": {},
   "outputs": [],
   "source": [
    "app_reviews_dataset['Found Helpful'] = df['Found Helpful'].str.extract('(\\d+)').astype(int)"
   ]
  },
  {
   "cell_type": "code",
   "execution_count": 154,
   "id": "49ffb8ae",
   "metadata": {},
   "outputs": [],
   "source": [
    "app_reviews_dataset['Found Helpful'] = app_reviews_dataset['Found Helpful'].apply(lambda x: int(''.join(filter(str.isdigit, str(x)))) if isinstance(x, str) else np.nan)"
   ]
  },
  {
   "cell_type": "code",
   "execution_count": 165,
   "id": "dc6357aa",
   "metadata": {},
   "outputs": [
    {
     "name": "stdout",
     "output_type": "stream",
     "text": [
      "All values in 'col2' are of the same data type\n"
     ]
    }
   ],
   "source": [
    "if app_reviews_dataset['Found Helpful'].dtype == app_reviews_dataset['Found Helpful'].apply(type).unique()[0]:\n",
    "    print(\"All values in 'col2' are of the same data type\")\n",
    "else:\n",
    "    print(\"Values in 'col2' are of different data types\")"
   ]
  },
  {
   "cell_type": "code",
   "execution_count": 164,
   "id": "9821f1e5",
   "metadata": {},
   "outputs": [],
   "source": [
    "app_reviews_dataset['Found Helpful'] = app_reviews_dataset['Found Helpful'].astype(int)"
   ]
  },
  {
   "cell_type": "code",
   "execution_count": 168,
   "id": "d871eb6d",
   "metadata": {},
   "outputs": [],
   "source": [
    "app_reviews_dataset['Stars'] = app_reviews_dataset['Stars'].fillna(0)"
   ]
  },
  {
   "cell_type": "code",
   "execution_count": 169,
   "id": "200078cc",
   "metadata": {},
   "outputs": [],
   "source": [
    "app_reviews_dataset['Stars'] = app_reviews_dataset['Stars'].astype()"
   ]
  },
  {
   "cell_type": "code",
   "execution_count": 171,
   "id": "6ef1264c",
   "metadata": {},
   "outputs": [],
   "source": [
    "app_reviews_dataset['Date'] = pd.to_datetime(app_reviews_dataset['Date'])"
   ]
  },
  {
   "cell_type": "code",
   "execution_count": null,
   "id": "7360c867",
   "metadata": {},
   "outputs": [],
   "source": [
    "driver.quit()"
   ]
  }
 ],
 "metadata": {
  "kernelspec": {
   "display_name": "Python 3 (ipykernel)",
   "language": "python",
   "name": "python3"
  },
  "language_info": {
   "codemirror_mode": {
    "name": "ipython",
    "version": 3
   },
   "file_extension": ".py",
   "mimetype": "text/x-python",
   "name": "python",
   "nbconvert_exporter": "python",
   "pygments_lexer": "ipython3",
   "version": "3.9.13"
  }
 },
 "nbformat": 4,
 "nbformat_minor": 5
}
